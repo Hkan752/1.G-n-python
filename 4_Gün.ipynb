{
  "nbformat": 4,
  "nbformat_minor": 0,
  "metadata": {
    "colab": {
      "name": "4.Gün",
      "provenance": []
    },
    "kernelspec": {
      "name": "python3",
      "display_name": "Python 3"
    }
  },
  "cells": [
    {
      "cell_type": "code",
      "metadata": {
        "id": "72cUbCfzox2P",
        "colab_type": "code",
        "colab": {
          "base_uri": "https://localhost:8080/",
          "height": 34
        },
        "outputId": "c5d2258a-b00e-482e-b52a-9e55cb2c61d8"
      },
      "source": [
        "list1 = [1,2,3]\n",
        "list2 = [4,5,6]\n",
        "\n",
        "list3 = [a+b\n",
        "         for a,b in zip(list1,list2)]\n",
        "print(list3)         "
      ],
      "execution_count": 2,
      "outputs": [
        {
          "output_type": "stream",
          "text": [
            "[5, 7, 9]\n"
          ],
          "name": "stdout"
        }
      ]
    },
    {
      "cell_type": "code",
      "metadata": {
        "id": "0REbN2JLsBRV",
        "colab_type": "code",
        "colab": {
          "base_uri": "https://localhost:8080/",
          "height": 248
        },
        "outputId": "d5eccdf8-8c02-4e2d-e26c-8d9f0a24c9db"
      },
      "source": [
        "stop_number = int(input('Bir bitiş sayısı giriniz'))\n",
        "\n",
        "sounuc = 0\n",
        "for i in range(1, stop_number):\n",
        "  sonuc += i \n",
        "\n",
        "print(sonuc)"
      ],
      "execution_count": 9,
      "outputs": [
        {
          "output_type": "stream",
          "text": [
            "Bir bitiş sayısı giriniz6\n"
          ],
          "name": "stdout"
        },
        {
          "output_type": "error",
          "ename": "NameError",
          "evalue": "ignored",
          "traceback": [
            "\u001b[0;31m---------------------------------------------------------------------------\u001b[0m",
            "\u001b[0;31mNameError\u001b[0m                                 Traceback (most recent call last)",
            "\u001b[0;32m<ipython-input-9-55d4816ea89e>\u001b[0m in \u001b[0;36m<module>\u001b[0;34m()\u001b[0m\n\u001b[1;32m      3\u001b[0m \u001b[0msounuc\u001b[0m \u001b[0;34m=\u001b[0m \u001b[0;36m0\u001b[0m\u001b[0;34m\u001b[0m\u001b[0;34m\u001b[0m\u001b[0m\n\u001b[1;32m      4\u001b[0m \u001b[0;32mfor\u001b[0m \u001b[0mi\u001b[0m \u001b[0;32min\u001b[0m \u001b[0mrange\u001b[0m\u001b[0;34m(\u001b[0m\u001b[0;36m1\u001b[0m\u001b[0;34m,\u001b[0m \u001b[0mstop_number\u001b[0m\u001b[0;34m)\u001b[0m\u001b[0;34m:\u001b[0m\u001b[0;34m\u001b[0m\u001b[0;34m\u001b[0m\u001b[0m\n\u001b[0;32m----> 5\u001b[0;31m   \u001b[0msonuc\u001b[0m \u001b[0;34m+=\u001b[0m \u001b[0mi\u001b[0m\u001b[0;34m\u001b[0m\u001b[0;34m\u001b[0m\u001b[0m\n\u001b[0m\u001b[1;32m      6\u001b[0m \u001b[0;34m\u001b[0m\u001b[0m\n\u001b[1;32m      7\u001b[0m \u001b[0mprint\u001b[0m\u001b[0;34m(\u001b[0m\u001b[0msonuc\u001b[0m\u001b[0;34m)\u001b[0m\u001b[0;34m\u001b[0m\u001b[0;34m\u001b[0m\u001b[0m\n",
            "\u001b[0;31mNameError\u001b[0m: name 'sonuc' is not defined"
          ]
        }
      ]
    },
    {
      "cell_type": "code",
      "metadata": {
        "id": "wE5JOjouuyZc",
        "colab_type": "code",
        "colab": {
          "base_uri": "https://localhost:8080/",
          "height": 238
        },
        "outputId": "257b28de-a248-46fc-9e74-2c06e3b572a7"
      },
      "source": [
        "import random as rnd \n",
        "\n",
        "\n",
        "gizli = rnd.randint(1,100)\n",
        "check = False\n",
        "\n",
        "#tahmin = int(input('Bir tahmin giriniz'))\n",
        "\n",
        "\n",
        "for x in range(6):\n",
        "  tahmin = int(input('Bir tahmin giriniz'))\n",
        "  if tahmin == gizli:\n",
        "    print('Tebrikler')\n",
        "    check = True\n",
        "    break\n",
        "  elif tahmin < gizli: \n",
        "     print('Daha büyük bir sayı giriniz!!')\n",
        "  else:\n",
        "      print('Daha küçük bir sayı giriniz!!')\n",
        "if not check:\n",
        "      print('Bilemediniz, belirlenen sayı:',gizli)  \n",
        "   \n",
        "   "
      ],
      "execution_count": 12,
      "outputs": [
        {
          "output_type": "stream",
          "text": [
            "Bir tahmin giriniz5\n",
            "Daha büyük bir sayı giriniz!!\n",
            "Bir tahmin giriniz8\n",
            "Daha büyük bir sayı giriniz!!\n",
            "Bir tahmin giriniz10\n",
            "Daha büyük bir sayı giriniz!!\n",
            "Bir tahmin giriniz78\n",
            "Daha küçük bir sayı giriniz!!\n",
            "Bir tahmin giriniz50\n",
            "Daha küçük bir sayı giriniz!!\n",
            "Bir tahmin giriniz45\n",
            "Daha küçük bir sayı giriniz!!\n",
            "Bilemediniz, belirlenen sayı: 27\n"
          ],
          "name": "stdout"
        }
      ]
    },
    {
      "cell_type": "code",
      "metadata": {
        "id": "ATyHoRwkzUoX",
        "colab_type": "code",
        "colab": {
          "base_uri": "https://localhost:8080/",
          "height": 34
        },
        "outputId": "4d6908f8-cfd8-4a8f-8e80-071337571338"
      },
      "source": [
        "d = {}\n",
        "\n",
        "print(d)"
      ],
      "execution_count": 13,
      "outputs": [
        {
          "output_type": "stream",
          "text": [
            "{}\n"
          ],
          "name": "stdout"
        }
      ]
    },
    {
      "cell_type": "code",
      "metadata": {
        "id": "uv_k5Mgh0Qai",
        "colab_type": "code",
        "colab": {
          "base_uri": "https://localhost:8080/",
          "height": 34
        },
        "outputId": "d4170f0f-7394-4c58-eb5c-e696edf829dd"
      },
      "source": [
        "d ={'print':1,'course':2}\n",
        "print(d)"
      ],
      "execution_count": 14,
      "outputs": [
        {
          "output_type": "stream",
          "text": [
            "{'print': 1, 'course': 2}\n"
          ],
          "name": "stdout"
        }
      ]
    },
    {
      "cell_type": "code",
      "metadata": {
        "id": "NTRbFrDH0e8a",
        "colab_type": "code",
        "colab": {
          "base_uri": "https://localhost:8080/",
          "height": 34
        },
        "outputId": "da6544e1-c6bc-4725-f92c-b03dadb2f7e3"
      },
      "source": [
        "d2 = {'machine':'learning','artifical':'intelligence'}\n",
        "d2"
      ],
      "execution_count": 15,
      "outputs": [
        {
          "output_type": "execute_result",
          "data": {
            "text/plain": [
              "{'artifical': 'intelligence', 'machine': 'learning'}"
            ]
          },
          "metadata": {
            "tags": []
          },
          "execution_count": 15
        }
      ]
    },
    {
      "cell_type": "code",
      "metadata": {
        "id": "Mff3NVgs00XC",
        "colab_type": "code",
        "colab": {
          "base_uri": "https://localhost:8080/",
          "height": 35
        },
        "outputId": "1c3cb3bd-6d25-4926-8263-ff9ad8c43c02"
      },
      "source": [
        "d2['artifical']"
      ],
      "execution_count": 16,
      "outputs": [
        {
          "output_type": "execute_result",
          "data": {
            "application/vnd.google.colaboratory.intrinsic+json": {
              "type": "string"
            },
            "text/plain": [
              "'intelligence'"
            ]
          },
          "metadata": {
            "tags": []
          },
          "execution_count": 16
        }
      ]
    },
    {
      "cell_type": "code",
      "metadata": {
        "id": "UvVWGbzU045q",
        "colab_type": "code",
        "colab": {
          "base_uri": "https://localhost:8080/",
          "height": 34
        },
        "outputId": "b6462729-d894-46ca-dc18-523769c99505"
      },
      "source": [
        "d['course']"
      ],
      "execution_count": 17,
      "outputs": [
        {
          "output_type": "execute_result",
          "data": {
            "text/plain": [
              "2"
            ]
          },
          "metadata": {
            "tags": []
          },
          "execution_count": 17
        }
      ]
    },
    {
      "cell_type": "code",
      "metadata": {
        "id": "3uPbuOF66T0D",
        "colab_type": "code",
        "colab": {
          "base_uri": "https://localhost:8080/",
          "height": 34
        },
        "outputId": "810fc870-3952-415f-aee5-3386d0d2e155"
      },
      "source": [
        "d2['deep'] = 'learning'\n",
        "d2\n",
        "#print(d2)"
      ],
      "execution_count": 18,
      "outputs": [
        {
          "output_type": "execute_result",
          "data": {
            "text/plain": [
              "{'artifical': 'intelligence', 'deep': 'learning', 'machine': 'learning'}"
            ]
          },
          "metadata": {
            "tags": []
          },
          "execution_count": 18
        }
      ]
    },
    {
      "cell_type": "code",
      "metadata": {
        "id": "0pyCmLOh6oib",
        "colab_type": "code",
        "colab": {
          "base_uri": "https://localhost:8080/",
          "height": 34
        },
        "outputId": "ddc707c1-8378-482a-aa55-8d5298e56d23"
      },
      "source": [
        "print(d.keys())"
      ],
      "execution_count": 19,
      "outputs": [
        {
          "output_type": "stream",
          "text": [
            "dict_keys(['print', 'course'])\n"
          ],
          "name": "stdout"
        }
      ]
    },
    {
      "cell_type": "code",
      "metadata": {
        "id": "I3eTf1qA6uWz",
        "colab_type": "code",
        "colab": {
          "base_uri": "https://localhost:8080/",
          "height": 34
        },
        "outputId": "6a6770a4-93d2-45ba-b1f7-edef656b8cd0"
      },
      "source": [
        "d2.values()"
      ],
      "execution_count": 20,
      "outputs": [
        {
          "output_type": "execute_result",
          "data": {
            "text/plain": [
              "dict_values(['learning', 'intelligence', 'learning'])"
            ]
          },
          "metadata": {
            "tags": []
          },
          "execution_count": 20
        }
      ]
    },
    {
      "cell_type": "code",
      "metadata": {
        "id": "U3Fj2cMM6yPb",
        "colab_type": "code",
        "colab": {
          "base_uri": "https://localhost:8080/",
          "height": 34
        },
        "outputId": "6a318574-c13b-4786-cb13-2bb801490024"
      },
      "source": [
        "d2.items()"
      ],
      "execution_count": 21,
      "outputs": [
        {
          "output_type": "execute_result",
          "data": {
            "text/plain": [
              "dict_items([('machine', 'learning'), ('artifical', 'intelligence'), ('deep', 'learning')])"
            ]
          },
          "metadata": {
            "tags": []
          },
          "execution_count": 21
        }
      ]
    },
    {
      "cell_type": "code",
      "metadata": {
        "id": "p7oqsk3V63R7",
        "colab_type": "code",
        "colab": {
          "base_uri": "https://localhost:8080/",
          "height": 68
        },
        "outputId": "a01c42c0-2e62-4cb0-833d-4dc27a07a53d"
      },
      "source": [
        "for k in d2.keys():\n",
        "  print(k)\n",
        "  "
      ],
      "execution_count": 22,
      "outputs": [
        {
          "output_type": "stream",
          "text": [
            "machine\n",
            "artifical\n",
            "deep\n"
          ],
          "name": "stdout"
        }
      ]
    },
    {
      "cell_type": "code",
      "metadata": {
        "id": "wXsVPn9B7DyD",
        "colab_type": "code",
        "colab": {
          "base_uri": "https://localhost:8080/",
          "height": 51
        },
        "outputId": "229a94ef-0090-4921-90a3-28d2c445123d"
      },
      "source": [
        "for v in d.values():\n",
        "  print(v)"
      ],
      "execution_count": 23,
      "outputs": [
        {
          "output_type": "stream",
          "text": [
            "1\n",
            "2\n"
          ],
          "name": "stdout"
        }
      ]
    },
    {
      "cell_type": "code",
      "metadata": {
        "id": "3B-J5nRw7PMj",
        "colab_type": "code",
        "colab": {
          "base_uri": "https://localhost:8080/",
          "height": 68
        },
        "outputId": "eea753da-e0e0-418b-dd46-5cbf4b1bf3b6"
      },
      "source": [
        "for k,v in d2.items():\n",
        "  print(k,v)"
      ],
      "execution_count": 24,
      "outputs": [
        {
          "output_type": "stream",
          "text": [
            "machine learning\n",
            "artifical intelligence\n",
            "deep learning\n"
          ],
          "name": "stdout"
        }
      ]
    },
    {
      "cell_type": "code",
      "metadata": {
        "id": "X6NvRlxc7VxD",
        "colab_type": "code",
        "colab": {
          "base_uri": "https://localhost:8080/",
          "height": 34
        },
        "outputId": "5a6b57de-c38d-4eed-f3dc-2d081574f511"
      },
      "source": [
        "for k,v in d.items():\n",
        "  if v == 2:\n",
        "    print(k)"
      ],
      "execution_count": 25,
      "outputs": [
        {
          "output_type": "stream",
          "text": [
            "course\n"
          ],
          "name": "stdout"
        }
      ]
    },
    {
      "cell_type": "code",
      "metadata": {
        "id": "UlzLM5jh8rCz",
        "colab_type": "code",
        "colab": {
          "base_uri": "https://localhost:8080/",
          "height": 34
        },
        "outputId": "be632f0f-e975-4a70-9525-624b5c5e26b9"
      },
      "source": [
        "#listeden sözlük oluşturma\n",
        "\n",
        "\n",
        "sayilar = list(range(9))\n",
        "\n",
        "cift_kare = {x: x**2\n",
        "             for x in sayilar\n",
        "             if x % 2  ==0}\n",
        "print(cift_kare)             \n"
      ],
      "execution_count": 26,
      "outputs": [
        {
          "output_type": "stream",
          "text": [
            "{0: 0, 2: 4, 4: 16, 6: 36, 8: 64}\n"
          ],
          "name": "stdout"
        }
      ]
    },
    {
      "cell_type": "code",
      "metadata": {
        "id": "meaD2Nqk93IT",
        "colab_type": "code",
        "colab": {
          "base_uri": "https://localhost:8080/",
          "height": 34
        },
        "outputId": "c1c4e414-1cc4-4712-e7c5-25ca8d7998a5"
      },
      "source": [
        "s = {'python',5,6,8,5,6,'abc','python'}\n",
        "print(s)"
      ],
      "execution_count": 30,
      "outputs": [
        {
          "output_type": "stream",
          "text": [
            "{5, 6, 'abc', 8, 'python'}\n"
          ],
          "name": "stdout"
        }
      ]
    },
    {
      "cell_type": "code",
      "metadata": {
        "id": "NcNMON_g_iQw",
        "colab_type": "code",
        "colab": {
          "base_uri": "https://localhost:8080/",
          "height": 54
        },
        "outputId": "35b909a3-a381-425d-a304-de540b351148"
      },
      "source": [
        "from math import sqrt\n",
        "\n",
        "#import math\n",
        "\n",
        "print({sqrt(x) for x in list(range(10))})"
      ],
      "execution_count": 31,
      "outputs": [
        {
          "output_type": "stream",
          "text": [
            "{0.0, 1.0, 2.0, 1.7320508075688772, 1.4142135623730951, 2.23606797749979, 2.449489742783178, 2.6457513110645907, 2.8284271247461903, 3.0}\n"
          ],
          "name": "stdout"
        }
      ]
    },
    {
      "cell_type": "code",
      "metadata": {
        "id": "fTs-KAEGAdlU",
        "colab_type": "code",
        "colab": {
          "base_uri": "https://localhost:8080/",
          "height": 51
        },
        "outputId": "7bad0e1b-e380-454a-a158-ed3acec90e49"
      },
      "source": [
        "demet = (1,2,3,4,5)\n",
        "print(demet)\n",
        "print(type(demet))"
      ],
      "execution_count": 32,
      "outputs": [
        {
          "output_type": "stream",
          "text": [
            "(1, 2, 3, 4, 5)\n",
            "<class 'tuple'>\n"
          ],
          "name": "stdout"
        }
      ]
    },
    {
      "cell_type": "code",
      "metadata": {
        "id": "PlAOCPFOAu9E",
        "colab_type": "code",
        "colab": {
          "base_uri": "https://localhost:8080/",
          "height": 34
        },
        "outputId": "f289b840-77ab-4272-f77c-d6f817f6e44a"
      },
      "source": [
        "dm3 = ('hakan',5,8, 'mart')\n",
        "dm3.index('mart')"
      ],
      "execution_count": 34,
      "outputs": [
        {
          "output_type": "execute_result",
          "data": {
            "text/plain": [
              "3"
            ]
          },
          "metadata": {
            "tags": []
          },
          "execution_count": 34
        }
      ]
    }
  ]
}