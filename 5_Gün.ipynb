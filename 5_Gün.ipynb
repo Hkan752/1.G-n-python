{
  "nbformat": 4,
  "nbformat_minor": 0,
  "metadata": {
    "colab": {
      "name": "5.Gün.ipynb",
      "provenance": [],
      "collapsed_sections": []
    },
    "kernelspec": {
      "name": "python3",
      "display_name": "Python 3"
    }
  },
  "cells": [
    {
      "cell_type": "code",
      "metadata": {
        "id": "q4BHX4pwyLug",
        "colab_type": "code",
        "colab": {}
      },
      "source": [
        "def merhaba():\n",
        "  print('Herkese Merhaba!!')\n",
        "\n",
        "\n",
        "\n",
        "\n"
      ],
      "execution_count": null,
      "outputs": []
    },
    {
      "cell_type": "code",
      "metadata": {
        "id": "L9Dbclasz4p_",
        "colab_type": "code",
        "colab": {
          "base_uri": "https://localhost:8080/",
          "height": 162
        },
        "outputId": "2ed9ceb3-7d76-48e3-8668-208de42773de"
      },
      "source": [
        "merhaba()  #fonksiyonu çağırma  #parametre almayan fonksiyonlar\n"
      ],
      "execution_count": null,
      "outputs": [
        {
          "output_type": "error",
          "ename": "TypeError",
          "evalue": "ignored",
          "traceback": [
            "\u001b[0;31m---------------------------------------------------------------------------\u001b[0m",
            "\u001b[0;31mTypeError\u001b[0m                                 Traceback (most recent call last)",
            "\u001b[0;32m<ipython-input-15-306796410ddf>\u001b[0m in \u001b[0;36m<module>\u001b[0;34m()\u001b[0m\n\u001b[0;32m----> 1\u001b[0;31m \u001b[0mmerhaba\u001b[0m\u001b[0;34m(\u001b[0m\u001b[0;34m)\u001b[0m  \u001b[0;31m#fonksiyonu çağırma  #parametre almayan fonksiyonlar\u001b[0m\u001b[0;34m\u001b[0m\u001b[0;34m\u001b[0m\u001b[0m\n\u001b[0m",
            "\u001b[0;31mTypeError\u001b[0m: merhaba() missing 1 required positional argument: 'hakan'"
          ]
        }
      ]
    },
    {
      "cell_type": "code",
      "metadata": {
        "id": "a1QF2LRW0CIe",
        "colab_type": "code",
        "colab": {}
      },
      "source": [
        "def merhaba(hakan):\n",
        "  print('Merhaba' + hakan)"
      ],
      "execution_count": null,
      "outputs": []
    },
    {
      "cell_type": "code",
      "metadata": {
        "id": "bz2f9NiQ0eBE",
        "colab_type": "code",
        "colab": {}
      },
      "source": [
        "def func1():\n",
        "  print('Hello World!!')\n",
        "\n",
        "\n",
        "  func1()\n",
        "  print('hakan')\n",
        "  func1()"
      ],
      "execution_count": null,
      "outputs": []
    },
    {
      "cell_type": "code",
      "metadata": {
        "id": "hDkcBWZn1Ch-",
        "colab_type": "code",
        "colab": {}
      },
      "source": [
        "def toplam(a,b):\n",
        "  sum = a + b\n",
        "  print(sum)\n",
        "\n"
      ],
      "execution_count": null,
      "outputs": []
    },
    {
      "cell_type": "code",
      "metadata": {
        "id": "wPvPWq641dUY",
        "colab_type": "code",
        "colab": {
          "base_uri": "https://localhost:8080/",
          "height": 50
        },
        "outputId": "63b4ae78-75ae-4e07-9b9d-d9e49ea7a1bf"
      },
      "source": [
        "t = toplam(8,9)\n",
        "print(t)"
      ],
      "execution_count": null,
      "outputs": [
        {
          "output_type": "stream",
          "text": [
            "17\n",
            "None\n"
          ],
          "name": "stdout"
        }
      ]
    },
    {
      "cell_type": "code",
      "metadata": {
        "id": "xlKnDTaW2i59",
        "colab_type": "code",
        "colab": {}
      },
      "source": [
        "def func(x,y):\n",
        "  toplam = x + y \n",
        "  carpim = x + y \n",
        "  return (toplam,carpim)\n",
        "  \n",
        "  "
      ],
      "execution_count": null,
      "outputs": []
    },
    {
      "cell_type": "code",
      "metadata": {
        "id": "h3QPxyWy29RO",
        "colab_type": "code",
        "colab": {
          "base_uri": "https://localhost:8080/",
          "height": 34
        },
        "outputId": "c5ea9b04-eb48-4834-8349-eefccd62e478"
      },
      "source": [
        "t,c = func(23,45)\n",
        "\n",
        "print(t,c)"
      ],
      "execution_count": null,
      "outputs": [
        {
          "output_type": "stream",
          "text": [
            "68 68\n"
          ],
          "name": "stdout"
        }
      ]
    },
    {
      "cell_type": "code",
      "metadata": {
        "id": "0zg5LJY03HfW",
        "colab_type": "code",
        "colab": {
          "base_uri": "https://localhost:8080/",
          "height": 34
        },
        "outputId": "5dfc9605-6809-4b3b-99f4-2a5fee4e4e20"
      },
      "source": [
        "print('Değerlerin toplamı:' + str(t) +'Değerlerin çarpımı:' + str(c))"
      ],
      "execution_count": null,
      "outputs": [
        {
          "output_type": "stream",
          "text": [
            "Değerlerin toplamı:68Değerlerin çarpımı:68\n"
          ],
          "name": "stdout"
        }
      ]
    },
    {
      "cell_type": "code",
      "metadata": {
        "id": "VWgcuOOM3zgp",
        "colab_type": "code",
        "colab": {}
      },
      "source": [
        "# Bir fonksiyon yazalım, girilen sayının karesini alsın ama 5 rakamı girince de sonlandırsın ve bize hata mesajı versin\n",
        "\n",
        "\n",
        "\n",
        "def kare(x):\n",
        "  if x == 5:\n",
        "    return ('5 girdiğiniz fonksiyon sonlandırınız')\n",
        "\n",
        "  sonuc = x**2 \n",
        "  return(sonuc)"
      ],
      "execution_count": null,
      "outputs": []
    },
    {
      "cell_type": "code",
      "metadata": {
        "id": "62O-1SWk43BB",
        "colab_type": "code",
        "colab": {
          "base_uri": "https://localhost:8080/",
          "height": 34
        },
        "outputId": "9bc7347c-a33c-4dbe-c13d-7c3b944af563"
      },
      "source": [
        "kare(10)"
      ],
      "execution_count": null,
      "outputs": [
        {
          "output_type": "execute_result",
          "data": {
            "text/plain": [
              "100"
            ]
          },
          "metadata": {
            "tags": []
          },
          "execution_count": 32
        }
      ]
    },
    {
      "cell_type": "code",
      "metadata": {
        "id": "iGO528Da46qN",
        "colab_type": "code",
        "colab": {
          "base_uri": "https://localhost:8080/",
          "height": 35
        },
        "outputId": "aae9071e-a618-4544-d4ed-c55d47a6601e"
      },
      "source": [
        "kare(5)"
      ],
      "execution_count": null,
      "outputs": [
        {
          "output_type": "execute_result",
          "data": {
            "application/vnd.google.colaboratory.intrinsic+json": {
              "type": "string"
            },
            "text/plain": [
              "'5 girdiğiniz fonksiyon sonlandırınız'"
            ]
          },
          "metadata": {
            "tags": []
          },
          "execution_count": 33
        }
      ]
    },
    {
      "cell_type": "code",
      "metadata": {
        "id": "aSBCREsi5DWs",
        "colab_type": "code",
        "colab": {
          "base_uri": "https://localhost:8080/",
          "height": 34
        },
        "outputId": "ec1d945f-0ec0-40de-d362-15d9b83a6cef"
      },
      "source": [
        "d = kare(5)\n",
        "print(d)"
      ],
      "execution_count": null,
      "outputs": [
        {
          "output_type": "stream",
          "text": [
            "5 girdiğiniz fonksiyon sonlandırınız\n"
          ],
          "name": "stdout"
        }
      ]
    },
    {
      "cell_type": "code",
      "metadata": {
        "id": "4pe4W-2V542h",
        "colab_type": "code",
        "colab": {}
      },
      "source": [
        "#faktöriyel hesabı yapan fonksiyonu yazalım\n",
        "\n",
        "\n",
        "def faktoriyel3(sayi):\n",
        "  faktoriyel = 1\n",
        "  if(sayi == 0 or sayi == 1):\n",
        "    print('Faktoriyel:',faktoriyel)\n",
        "  else:\n",
        "    for i in range(faktoriyel,sayi+1):\n",
        "      faktoriyel *= sayi\n",
        "      sayi -= 1\n",
        "    print('Faktoriyel:' , faktoriyel)    \n"
      ],
      "execution_count": 42,
      "outputs": []
    },
    {
      "cell_type": "code",
      "metadata": {
        "id": "uSYLqkWR8cns",
        "colab_type": "code",
        "colab": {
          "base_uri": "https://localhost:8080/",
          "height": 50
        },
        "outputId": "f127ca67-8330-4616-a2de-5fcba031c87b"
      },
      "source": [
        "x = faktoriyel3(6)\n",
        "print(x)"
      ],
      "execution_count": 43,
      "outputs": [
        {
          "output_type": "stream",
          "text": [
            "Faktoriyel: 720\n",
            "None\n"
          ],
          "name": "stdout"
        }
      ]
    },
    {
      "cell_type": "code",
      "metadata": {
        "id": "rnr9RAFZCm2P",
        "colab_type": "code",
        "colab": {}
      },
      "source": [
        "# boolean değikenli bir büyük harf küçük harf çıktısı veren fonksiyon yazalım.\n",
        "\n",
        "\n",
        "def merhaba2(isim, buyukHarf = False):\n",
        "  if buyukHarf:\n",
        "    print('Merhaba' + isim.upper())\n",
        "  else:\n",
        "    print('Merhaba' + isim)  "
      ],
      "execution_count": 44,
      "outputs": []
    },
    {
      "cell_type": "code",
      "metadata": {
        "id": "1y-2lILIDoP4",
        "colab_type": "code",
        "colab": {
          "base_uri": "https://localhost:8080/",
          "height": 34
        },
        "outputId": "0b279ac7-860d-465d-bbce-5abf5529b2e3"
      },
      "source": [
        "merhaba2('Hakan')"
      ],
      "execution_count": 45,
      "outputs": [
        {
          "output_type": "stream",
          "text": [
            "MerhabaHakan\n"
          ],
          "name": "stdout"
        }
      ]
    },
    {
      "cell_type": "code",
      "metadata": {
        "id": "KzQMg0yNEBu4",
        "colab_type": "code",
        "colab": {
          "base_uri": "https://localhost:8080/",
          "height": 34
        },
        "outputId": "57a75412-9320-42b8-82de-e877abb5f413"
      },
      "source": [
        "merhaba2('Hakan', buyukHarf= True)"
      ],
      "execution_count": 46,
      "outputs": [
        {
          "output_type": "stream",
          "text": [
            "MerhabaHAKAN\n"
          ],
          "name": "stdout"
        }
      ]
    },
    {
      "cell_type": "code",
      "metadata": {
        "id": "k2vYnJHcGF7F",
        "colab_type": "code",
        "colab": {}
      },
      "source": [
        "def carp(*args):\n",
        "  sonuc = 1\n",
        "  for i in args:\n",
        "    sonuc *= i\n",
        "  print(sonuc)  \n",
        "\n",
        "\n",
        "  # *args ifade demet tipli veri tutar."
      ],
      "execution_count": 48,
      "outputs": []
    },
    {
      "cell_type": "code",
      "metadata": {
        "id": "Di3Y0BtEGmY9",
        "colab_type": "code",
        "colab": {
          "base_uri": "https://localhost:8080/",
          "height": 34
        },
        "outputId": "443a6501-0571-4ec8-f963-68deaced3632"
      },
      "source": [
        "carp(4,5,6,7,8)"
      ],
      "execution_count": 49,
      "outputs": [
        {
          "output_type": "stream",
          "text": [
            "6720\n"
          ],
          "name": "stdout"
        }
      ]
    },
    {
      "cell_type": "code",
      "metadata": {
        "id": "gK490zSsGsp6",
        "colab_type": "code",
        "colab": {
          "base_uri": "https://localhost:8080/",
          "height": 34
        },
        "outputId": "d29db573-84ad-4bb6-e8a8-9a1d53186edc"
      },
      "source": [
        "carp(1,3,4,5,6,9,8)"
      ],
      "execution_count": 50,
      "outputs": [
        {
          "output_type": "stream",
          "text": [
            "25920\n"
          ],
          "name": "stdout"
        }
      ]
    },
    {
      "cell_type": "code",
      "metadata": {
        "id": "E9eFEzBRG_Fx",
        "colab_type": "code",
        "colab": {}
      },
      "source": [
        "import tensorflow as tf\n",
        "import numpy as np\n"
      ],
      "execution_count": 52,
      "outputs": []
    },
    {
      "cell_type": "code",
      "metadata": {
        "id": "P58nyTYDKfXe",
        "colab_type": "code",
        "colab": {
          "base_uri": "https://localhost:8080/",
          "height": 34
        },
        "outputId": "ec3f6d1c-565f-4257-ecff-772a8f0a579c"
      },
      "source": [
        "x = 5\n",
        "\n",
        "print(x)"
      ],
      "execution_count": 53,
      "outputs": [
        {
          "output_type": "stream",
          "text": [
            "5\n"
          ],
          "name": "stdout"
        }
      ]
    },
    {
      "cell_type": "code",
      "metadata": {
        "id": "-5rQVHzMKlho",
        "colab_type": "code",
        "colab": {}
      },
      "source": [
        "def yazdir():\n",
        "  x = 4\n",
        "  return(x)"
      ],
      "execution_count": 55,
      "outputs": []
    },
    {
      "cell_type": "code",
      "metadata": {
        "id": "8y3vZcMLK42V",
        "colab_type": "code",
        "colab": {
          "base_uri": "https://localhost:8080/",
          "height": 34
        },
        "outputId": "7c7b80c1-954b-4d44-b58d-08ce9d806751"
      },
      "source": [
        "yazdir()\n",
        "    \n"
      ],
      "execution_count": 56,
      "outputs": [
        {
          "output_type": "execute_result",
          "data": {
            "text/plain": [
              "4"
            ]
          },
          "metadata": {
            "tags": []
          },
          "execution_count": 56
        }
      ]
    },
    {
      "cell_type": "code",
      "metadata": {
        "id": "chGqhg8xLGrN",
        "colab_type": "code",
        "colab": {
          "base_uri": "https://localhost:8080/",
          "height": 34
        },
        "outputId": "da970396-9a9c-494b-e5dd-0cdc051fbe03"
      },
      "source": [
        "print(x)"
      ],
      "execution_count": 57,
      "outputs": [
        {
          "output_type": "stream",
          "text": [
            "5\n"
          ],
          "name": "stdout"
        }
      ]
    }
  ]
}