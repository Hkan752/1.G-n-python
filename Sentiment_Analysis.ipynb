{
  "nbformat": 4,
  "nbformat_minor": 0,
  "metadata": {
    "colab": {
      "name": "Sentiment Analysis",
      "provenance": [],
      "collapsed_sections": [],
      "authorship_tag": "ABX9TyOLrPqeRDVSiM/CqIpNSRm4",
      "include_colab_link": true
    },
    "kernelspec": {
      "name": "python3",
      "display_name": "Python 3"
    }
  },
  "cells": [
    {
      "cell_type": "markdown",
      "metadata": {
        "id": "view-in-github",
        "colab_type": "text"
      },
      "source": [
        "<a href=\"https://colab.research.google.com/github/Hkan752/1.G-n-python/blob/master/Sentiment_Analysis.ipynb\" target=\"_parent\"><img src=\"https://colab.research.google.com/assets/colab-badge.svg\" alt=\"Open In Colab\"/></a>"
      ]
    },
    {
      "cell_type": "code",
      "metadata": {
        "id": "VN95n36_bLNI"
      },
      "source": [
        "from textblob import TextBlob"
      ],
      "execution_count": 16,
      "outputs": []
    },
    {
      "cell_type": "code",
      "metadata": {
        "colab": {
          "base_uri": "https://localhost:8080/"
        },
        "id": "BCM1tj3BbYc5",
        "outputId": "da0df368-fe92-4ee5-fee2-3dfe69aa1aed"
      },
      "source": [
        "Feedback1 = 'The food at Radison was awesome'\n",
        "Feedback2 = 'The food at Radison was very good'\n",
        "blob1 = TextBlob(Feedback1)\n",
        "blob2 = TextBlob(Feedback2)\n",
        "print(blob1.sentiment)\n",
        "print(blob2.sentiment)"
      ],
      "execution_count": 17,
      "outputs": [
        {
          "output_type": "stream",
          "text": [
            "Sentiment(polarity=1.0, subjectivity=1.0)\n",
            "Sentiment(polarity=0.9099999999999999, subjectivity=0.7800000000000001)\n"
          ],
          "name": "stdout"
        }
      ]
    }
  ]
}