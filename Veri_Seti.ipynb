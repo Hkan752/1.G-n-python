{
  "nbformat": 4,
  "nbformat_minor": 0,
  "metadata": {
    "colab": {
      "name": "Veri Seti.ipynb",
      "provenance": [],
      "collapsed_sections": []
    },
    "kernelspec": {
      "name": "python3",
      "display_name": "Python 3"
    }
  },
  "cells": [
    {
      "cell_type": "code",
      "metadata": {
        "id": "VhkTGaiWgTeB",
        "colab_type": "code",
        "colab": {}
      },
      "source": [
        "import nltk\n",
        "from  nltk.corpus import twitter_samples\n",
        "import matplotlib.pyplot as plt\n",
        "import random\n"
      ],
      "execution_count": 3,
      "outputs": []
    }
  ]
}